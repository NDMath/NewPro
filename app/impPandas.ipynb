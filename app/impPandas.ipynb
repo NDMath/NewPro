{
 "cells": [
  {
   "cell_type": "code",
   "execution_count": 2,
   "id": "bcc61480-58cc-4cd3-bed5-cd0b4aba3fe6",
   "metadata": {},
   "outputs": [],
   "source": [
    "import datetime\n",
    "import pandas as pd\n",
    "import numpy as np\n"
   ]
  },
  {
   "cell_type": "code",
   "execution_count": 3,
   "id": "420be906",
   "metadata": {},
   "outputs": [
    {
     "name": "stdout",
     "output_type": "stream",
     "text": [
      "\n",
      "INSTALLED VERSIONS\n",
      "------------------\n",
      "commit                : 0691c5cf90477d3503834d983f69350f250a6ff7\n",
      "python                : 3.12.7\n",
      "python-bits           : 64\n",
      "OS                    : Linux\n",
      "OS-release            : 6.10.4-linuxkit\n",
      "Version               : #1 SMP Mon Aug 12 08:47:01 UTC 2024\n",
      "machine               : aarch64\n",
      "processor             : \n",
      "byteorder             : little\n",
      "LC_ALL                : None\n",
      "LANG                  : C.UTF-8\n",
      "LOCALE                : C.UTF-8\n",
      "\n",
      "pandas                : 2.2.3\n",
      "numpy                 : 2.1.1\n",
      "pytz                  : 2024.2\n",
      "dateutil              : 2.9.0.post0\n",
      "pip                   : 24.2\n",
      "Cython                : None\n",
      "sphinx                : None\n",
      "IPython               : 8.27.0\n",
      "adbc-driver-postgresql: None\n",
      "adbc-driver-sqlite    : None\n",
      "bs4                   : None\n",
      "blosc                 : None\n",
      "bottleneck            : None\n",
      "dataframe-api-compat  : None\n",
      "fastparquet           : None\n",
      "fsspec                : None\n",
      "html5lib              : None\n",
      "hypothesis            : None\n",
      "gcsfs                 : None\n",
      "jinja2                : None\n",
      "lxml.etree            : None\n",
      "matplotlib            : None\n",
      "numba                 : None\n",
      "numexpr               : None\n",
      "odfpy                 : None\n",
      "openpyxl              : 3.1.5\n",
      "pandas_gbq            : None\n",
      "psycopg2              : None\n",
      "pymysql               : None\n",
      "pyarrow               : None\n",
      "pyreadstat            : None\n",
      "pytest                : None\n",
      "python-calamine       : None\n",
      "pyxlsb                : None\n",
      "s3fs                  : None\n",
      "scipy                 : None\n",
      "sqlalchemy            : None\n",
      "tables                : None\n",
      "tabulate              : None\n",
      "xarray                : None\n",
      "xlrd                  : None\n",
      "xlsxwriter            : None\n",
      "zstandard             : None\n",
      "tzdata                : 2024.2\n",
      "qtpy                  : None\n",
      "pyqt5                 : None\n"
     ]
    }
   ],
   "source": [
    "pd.show_versions()"
   ]
  },
  {
   "cell_type": "code",
   "execution_count": null,
   "id": "35fa431e",
   "metadata": {},
   "outputs": [],
   "source": [
    "days_of_april = [datetime.date(2022, 4, i).strftime('%Y-%m-%d') for i in range(1, 31)]\n",
    "df = pd.DataFrame(days_of_april, columns=['Days'])\n",
    "\n",
    "print(days_of_april)\n",
    "print(df)"
   ]
  },
  {
   "cell_type": "code",
   "execution_count": null,
   "id": "de5cb421",
   "metadata": {},
   "outputs": [],
   "source": [
    "np.random.randint(1, 100)"
   ]
  },
  {
   "cell_type": "code",
   "execution_count": null,
   "id": "b6d93204",
   "metadata": {},
   "outputs": [],
   "source": [
    "data = pd.read_csv('../app_data/wine.data')\n",
    "print(data.head())"
   ]
  }
 ],
 "metadata": {
  "kernelspec": {
   "display_name": "Python 3",
   "language": "python",
   "name": "python3"
  },
  "language_info": {
   "codemirror_mode": {
    "name": "ipython",
    "version": 3
   },
   "file_extension": ".py",
   "mimetype": "text/x-python",
   "name": "python",
   "nbconvert_exporter": "python",
   "pygments_lexer": "ipython3",
   "version": "3.12.7"
  }
 },
 "nbformat": 4,
 "nbformat_minor": 5
}
